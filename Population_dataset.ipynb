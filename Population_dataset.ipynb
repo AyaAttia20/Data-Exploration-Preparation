{
  "cells": [
    {
      "cell_type": "markdown",
      "id": "e99aa64a",
      "metadata": {
        "id": "e99aa64a"
      },
      "source": [
        "## Import Libraries , Load and read population dataset"
      ]
    },
    {
      "cell_type": "code",
      "execution_count": null,
      "id": "331f77fa",
      "metadata": {
        "id": "331f77fa"
      },
      "outputs": [],
      "source": [
        "import pandas as pd\n",
        "import matplotlib.pyplot as plt"
      ]
    },
    {
      "cell_type": "code",
      "execution_count": null,
      "id": "bb5cb0cd",
      "metadata": {
        "id": "bb5cb0cd",
        "outputId": "2f342af7-1f6a-4825-d8d7-cb7198e5c5a7"
      },
      "outputs": [
        {
          "data": {
            "text/html": [
              "<div>\n",
              "<style scoped>\n",
              "    .dataframe tbody tr th:only-of-type {\n",
              "        vertical-align: middle;\n",
              "    }\n",
              "\n",
              "    .dataframe tbody tr th {\n",
              "        vertical-align: top;\n",
              "    }\n",
              "\n",
              "    .dataframe thead th {\n",
              "        text-align: right;\n",
              "    }\n",
              "</style>\n",
              "<table border=\"1\" class=\"dataframe\">\n",
              "  <thead>\n",
              "    <tr style=\"text-align: right;\">\n",
              "      <th></th>\n",
              "      <th>country</th>\n",
              "      <th>1800</th>\n",
              "      <th>1801</th>\n",
              "      <th>1802</th>\n",
              "      <th>1803</th>\n",
              "      <th>1804</th>\n",
              "      <th>1805</th>\n",
              "      <th>1806</th>\n",
              "      <th>1807</th>\n",
              "      <th>1808</th>\n",
              "      <th>...</th>\n",
              "      <th>2091</th>\n",
              "      <th>2092</th>\n",
              "      <th>2093</th>\n",
              "      <th>2094</th>\n",
              "      <th>2095</th>\n",
              "      <th>2096</th>\n",
              "      <th>2097</th>\n",
              "      <th>2098</th>\n",
              "      <th>2099</th>\n",
              "      <th>2100</th>\n",
              "    </tr>\n",
              "  </thead>\n",
              "  <tbody>\n",
              "    <tr>\n",
              "      <th>0</th>\n",
              "      <td>Afghanistan</td>\n",
              "      <td>3.28M</td>\n",
              "      <td>3.28M</td>\n",
              "      <td>3.28M</td>\n",
              "      <td>3.28M</td>\n",
              "      <td>3.28M</td>\n",
              "      <td>3.28M</td>\n",
              "      <td>3.28M</td>\n",
              "      <td>3.28M</td>\n",
              "      <td>3.28M</td>\n",
              "      <td>...</td>\n",
              "      <td>76.6M</td>\n",
              "      <td>76.4M</td>\n",
              "      <td>76.3M</td>\n",
              "      <td>76.1M</td>\n",
              "      <td>76M</td>\n",
              "      <td>75.8M</td>\n",
              "      <td>75.6M</td>\n",
              "      <td>75.4M</td>\n",
              "      <td>75.2M</td>\n",
              "      <td>74.9M</td>\n",
              "    </tr>\n",
              "    <tr>\n",
              "      <th>1</th>\n",
              "      <td>Angola</td>\n",
              "      <td>1.57M</td>\n",
              "      <td>1.57M</td>\n",
              "      <td>1.57M</td>\n",
              "      <td>1.57M</td>\n",
              "      <td>1.57M</td>\n",
              "      <td>1.57M</td>\n",
              "      <td>1.57M</td>\n",
              "      <td>1.57M</td>\n",
              "      <td>1.57M</td>\n",
              "      <td>...</td>\n",
              "      <td>168M</td>\n",
              "      <td>170M</td>\n",
              "      <td>172M</td>\n",
              "      <td>175M</td>\n",
              "      <td>177M</td>\n",
              "      <td>179M</td>\n",
              "      <td>182M</td>\n",
              "      <td>184M</td>\n",
              "      <td>186M</td>\n",
              "      <td>188M</td>\n",
              "    </tr>\n",
              "    <tr>\n",
              "      <th>2</th>\n",
              "      <td>Albania</td>\n",
              "      <td>400k</td>\n",
              "      <td>402k</td>\n",
              "      <td>404k</td>\n",
              "      <td>405k</td>\n",
              "      <td>407k</td>\n",
              "      <td>409k</td>\n",
              "      <td>411k</td>\n",
              "      <td>413k</td>\n",
              "      <td>414k</td>\n",
              "      <td>...</td>\n",
              "      <td>1.33M</td>\n",
              "      <td>1.3M</td>\n",
              "      <td>1.27M</td>\n",
              "      <td>1.25M</td>\n",
              "      <td>1.22M</td>\n",
              "      <td>1.19M</td>\n",
              "      <td>1.17M</td>\n",
              "      <td>1.14M</td>\n",
              "      <td>1.11M</td>\n",
              "      <td>1.09M</td>\n",
              "    </tr>\n",
              "    <tr>\n",
              "      <th>3</th>\n",
              "      <td>Andorra</td>\n",
              "      <td>2650</td>\n",
              "      <td>2650</td>\n",
              "      <td>2650</td>\n",
              "      <td>2650</td>\n",
              "      <td>2650</td>\n",
              "      <td>2650</td>\n",
              "      <td>2650</td>\n",
              "      <td>2650</td>\n",
              "      <td>2650</td>\n",
              "      <td>...</td>\n",
              "      <td>63k</td>\n",
              "      <td>62.9k</td>\n",
              "      <td>62.9k</td>\n",
              "      <td>62.8k</td>\n",
              "      <td>62.7k</td>\n",
              "      <td>62.7k</td>\n",
              "      <td>62.6k</td>\n",
              "      <td>62.5k</td>\n",
              "      <td>62.5k</td>\n",
              "      <td>62.4k</td>\n",
              "    </tr>\n",
              "    <tr>\n",
              "      <th>4</th>\n",
              "      <td>United Arab Emirates</td>\n",
              "      <td>40.2k</td>\n",
              "      <td>40.2k</td>\n",
              "      <td>40.2k</td>\n",
              "      <td>40.2k</td>\n",
              "      <td>40.2k</td>\n",
              "      <td>40.2k</td>\n",
              "      <td>40.2k</td>\n",
              "      <td>40.2k</td>\n",
              "      <td>40.2k</td>\n",
              "      <td>...</td>\n",
              "      <td>12.3M</td>\n",
              "      <td>12.4M</td>\n",
              "      <td>12.5M</td>\n",
              "      <td>12.5M</td>\n",
              "      <td>12.6M</td>\n",
              "      <td>12.7M</td>\n",
              "      <td>12.7M</td>\n",
              "      <td>12.8M</td>\n",
              "      <td>12.8M</td>\n",
              "      <td>12.9M</td>\n",
              "    </tr>\n",
              "  </tbody>\n",
              "</table>\n",
              "<p>5 rows × 302 columns</p>\n",
              "</div>"
            ],
            "text/plain": [
              "                country   1800   1801   1802   1803   1804   1805   1806  \\\n",
              "0           Afghanistan  3.28M  3.28M  3.28M  3.28M  3.28M  3.28M  3.28M   \n",
              "1                Angola  1.57M  1.57M  1.57M  1.57M  1.57M  1.57M  1.57M   \n",
              "2               Albania   400k   402k   404k   405k   407k   409k   411k   \n",
              "3               Andorra   2650   2650   2650   2650   2650   2650   2650   \n",
              "4  United Arab Emirates  40.2k  40.2k  40.2k  40.2k  40.2k  40.2k  40.2k   \n",
              "\n",
              "    1807   1808  ...   2091   2092   2093   2094   2095   2096   2097   2098  \\\n",
              "0  3.28M  3.28M  ...  76.6M  76.4M  76.3M  76.1M    76M  75.8M  75.6M  75.4M   \n",
              "1  1.57M  1.57M  ...   168M   170M   172M   175M   177M   179M   182M   184M   \n",
              "2   413k   414k  ...  1.33M   1.3M  1.27M  1.25M  1.22M  1.19M  1.17M  1.14M   \n",
              "3   2650   2650  ...    63k  62.9k  62.9k  62.8k  62.7k  62.7k  62.6k  62.5k   \n",
              "4  40.2k  40.2k  ...  12.3M  12.4M  12.5M  12.5M  12.6M  12.7M  12.7M  12.8M   \n",
              "\n",
              "    2099   2100  \n",
              "0  75.2M  74.9M  \n",
              "1   186M   188M  \n",
              "2  1.11M  1.09M  \n",
              "3  62.5k  62.4k  \n",
              "4  12.8M  12.9M  \n",
              "\n",
              "[5 rows x 302 columns]"
            ]
          },
          "execution_count": 79,
          "metadata": {},
          "output_type": "execute_result"
        }
      ],
      "source": [
        "data=pd.read_excel('population_total.xlsx')\n",
        "data.head()"
      ]
    },
    {
      "cell_type": "markdown",
      "id": "3ed8b111",
      "metadata": {
        "id": "3ed8b111"
      },
      "source": [
        "### To reshape data set in Long format use melt function make three columns country, year,population"
      ]
    },
    {
      "cell_type": "code",
      "execution_count": null,
      "id": "6efe8569",
      "metadata": {
        "id": "6efe8569",
        "outputId": "c937fefd-f065-4635-81dc-6f65613e8ff1"
      },
      "outputs": [
        {
          "data": {
            "text/html": [
              "<div>\n",
              "<style scoped>\n",
              "    .dataframe tbody tr th:only-of-type {\n",
              "        vertical-align: middle;\n",
              "    }\n",
              "\n",
              "    .dataframe tbody tr th {\n",
              "        vertical-align: top;\n",
              "    }\n",
              "\n",
              "    .dataframe thead th {\n",
              "        text-align: right;\n",
              "    }\n",
              "</style>\n",
              "<table border=\"1\" class=\"dataframe\">\n",
              "  <thead>\n",
              "    <tr style=\"text-align: right;\">\n",
              "      <th></th>\n",
              "      <th>country</th>\n",
              "      <th>year</th>\n",
              "      <th>population</th>\n",
              "    </tr>\n",
              "  </thead>\n",
              "  <tbody>\n",
              "    <tr>\n",
              "      <th>0</th>\n",
              "      <td>Afghanistan</td>\n",
              "      <td>1800</td>\n",
              "      <td>3.28M</td>\n",
              "    </tr>\n",
              "    <tr>\n",
              "      <th>1</th>\n",
              "      <td>Angola</td>\n",
              "      <td>1800</td>\n",
              "      <td>1.57M</td>\n",
              "    </tr>\n",
              "    <tr>\n",
              "      <th>2</th>\n",
              "      <td>Albania</td>\n",
              "      <td>1800</td>\n",
              "      <td>400k</td>\n",
              "    </tr>\n",
              "    <tr>\n",
              "      <th>3</th>\n",
              "      <td>Andorra</td>\n",
              "      <td>1800</td>\n",
              "      <td>2650</td>\n",
              "    </tr>\n",
              "    <tr>\n",
              "      <th>4</th>\n",
              "      <td>United Arab Emirates</td>\n",
              "      <td>1800</td>\n",
              "      <td>40.2k</td>\n",
              "    </tr>\n",
              "    <tr>\n",
              "      <th>...</th>\n",
              "      <td>...</td>\n",
              "      <td>...</td>\n",
              "      <td>...</td>\n",
              "    </tr>\n",
              "    <tr>\n",
              "      <th>59292</th>\n",
              "      <td>Samoa</td>\n",
              "      <td>2100</td>\n",
              "      <td>310k</td>\n",
              "    </tr>\n",
              "    <tr>\n",
              "      <th>59293</th>\n",
              "      <td>Yemen</td>\n",
              "      <td>2100</td>\n",
              "      <td>53.2M</td>\n",
              "    </tr>\n",
              "    <tr>\n",
              "      <th>59294</th>\n",
              "      <td>South Africa</td>\n",
              "      <td>2100</td>\n",
              "      <td>79.2M</td>\n",
              "    </tr>\n",
              "    <tr>\n",
              "      <th>59295</th>\n",
              "      <td>Zambia</td>\n",
              "      <td>2100</td>\n",
              "      <td>81.5M</td>\n",
              "    </tr>\n",
              "    <tr>\n",
              "      <th>59296</th>\n",
              "      <td>Zimbabwe</td>\n",
              "      <td>2100</td>\n",
              "      <td>31M</td>\n",
              "    </tr>\n",
              "  </tbody>\n",
              "</table>\n",
              "<p>59297 rows × 3 columns</p>\n",
              "</div>"
            ],
            "text/plain": [
              "                    country  year population\n",
              "0               Afghanistan  1800      3.28M\n",
              "1                    Angola  1800      1.57M\n",
              "2                   Albania  1800       400k\n",
              "3                   Andorra  1800       2650\n",
              "4      United Arab Emirates  1800      40.2k\n",
              "...                     ...   ...        ...\n",
              "59292                 Samoa  2100       310k\n",
              "59293                 Yemen  2100      53.2M\n",
              "59294          South Africa  2100      79.2M\n",
              "59295                Zambia  2100      81.5M\n",
              "59296              Zimbabwe  2100        31M\n",
              "\n",
              "[59297 rows x 3 columns]"
            ]
          },
          "execution_count": 80,
          "metadata": {},
          "output_type": "execute_result"
        }
      ],
      "source": [
        "data=pd.melt(data,id_vars=['country'],var_name='year',value_name='population')\n",
        "data"
      ]
    },
    {
      "cell_type": "markdown",
      "id": "2bdefeae",
      "metadata": {
        "id": "2bdefeae"
      },
      "source": [
        "### To replace all M,k values in population column convert it"
      ]
    },
    {
      "cell_type": "code",
      "execution_count": null,
      "id": "6137b7b4",
      "metadata": {
        "id": "6137b7b4"
      },
      "outputs": [],
      "source": [
        "def convert(col):\n",
        "        col = str(col).strip()\n",
        "        if 'M' in col:\n",
        "            return float(col.replace('M', '').strip()) * 1000000\n",
        "        elif 'k' in col:\n",
        "            return float(col.replace('k', '').strip()) * 1000\n",
        "        elif 'B' in col:\n",
        "            return float(col.replace('B', '').strip()) * 1000000000\n",
        "        else:\n",
        "            return float(col)"
      ]
    },
    {
      "cell_type": "code",
      "execution_count": null,
      "id": "3f03e7a8",
      "metadata": {
        "id": "3f03e7a8",
        "outputId": "fafe38b9-b382-4dcb-87af-57f12cbd390b"
      },
      "outputs": [
        {
          "data": {
            "text/plain": [
              "0         3280000.0\n",
              "1         1570000.0\n",
              "2          400000.0\n",
              "3            2650.0\n",
              "4           40200.0\n",
              "            ...    \n",
              "59292      310000.0\n",
              "59293    53200000.0\n",
              "59294    79200000.0\n",
              "59295    81500000.0\n",
              "59296    31000000.0\n",
              "Name: population, Length: 59297, dtype: float64"
            ]
          },
          "execution_count": 82,
          "metadata": {},
          "output_type": "execute_result"
        }
      ],
      "source": [
        "data['population'] = data['population'].apply(convert)\n",
        "data['population']"
      ]
    },
    {
      "cell_type": "code",
      "execution_count": null,
      "id": "72d5edd4",
      "metadata": {
        "id": "72d5edd4",
        "outputId": "2b613033-0c69-4f0e-cf31-66b53672a5dc"
      },
      "outputs": [
        {
          "data": {
            "text/html": [
              "<div>\n",
              "<style scoped>\n",
              "    .dataframe tbody tr th:only-of-type {\n",
              "        vertical-align: middle;\n",
              "    }\n",
              "\n",
              "    .dataframe tbody tr th {\n",
              "        vertical-align: top;\n",
              "    }\n",
              "\n",
              "    .dataframe thead th {\n",
              "        text-align: right;\n",
              "    }\n",
              "</style>\n",
              "<table border=\"1\" class=\"dataframe\">\n",
              "  <thead>\n",
              "    <tr style=\"text-align: right;\">\n",
              "      <th></th>\n",
              "      <th>country</th>\n",
              "      <th>year</th>\n",
              "      <th>population</th>\n",
              "    </tr>\n",
              "  </thead>\n",
              "  <tbody>\n",
              "    <tr>\n",
              "      <th>0</th>\n",
              "      <td>Afghanistan</td>\n",
              "      <td>1800</td>\n",
              "      <td>3280000.0</td>\n",
              "    </tr>\n",
              "    <tr>\n",
              "      <th>1</th>\n",
              "      <td>Angola</td>\n",
              "      <td>1800</td>\n",
              "      <td>1570000.0</td>\n",
              "    </tr>\n",
              "    <tr>\n",
              "      <th>2</th>\n",
              "      <td>Albania</td>\n",
              "      <td>1800</td>\n",
              "      <td>400000.0</td>\n",
              "    </tr>\n",
              "    <tr>\n",
              "      <th>3</th>\n",
              "      <td>Andorra</td>\n",
              "      <td>1800</td>\n",
              "      <td>2650.0</td>\n",
              "    </tr>\n",
              "    <tr>\n",
              "      <th>4</th>\n",
              "      <td>United Arab Emirates</td>\n",
              "      <td>1800</td>\n",
              "      <td>40200.0</td>\n",
              "    </tr>\n",
              "  </tbody>\n",
              "</table>\n",
              "</div>"
            ],
            "text/plain": [
              "                country  year  population\n",
              "0           Afghanistan  1800   3280000.0\n",
              "1                Angola  1800   1570000.0\n",
              "2               Albania  1800    400000.0\n",
              "3               Andorra  1800      2650.0\n",
              "4  United Arab Emirates  1800     40200.0"
            ]
          },
          "execution_count": 83,
          "metadata": {},
          "output_type": "execute_result"
        }
      ],
      "source": [
        "data.head()"
      ]
    },
    {
      "cell_type": "markdown",
      "id": "ecbdd0a0",
      "metadata": {
        "id": "ecbdd0a0"
      },
      "source": [
        "### getting sum of population for each year"
      ]
    },
    {
      "cell_type": "code",
      "execution_count": null,
      "id": "18b838f9",
      "metadata": {
        "id": "18b838f9",
        "outputId": "82b82498-33f9-44dd-b9f9-d5f7560cbbd1"
      },
      "outputs": [
        {
          "data": {
            "text/plain": [
              "year\n",
              "1800    9.844545e+08\n",
              "1801    9.878949e+08\n",
              "1802    9.915552e+08\n",
              "1803    9.949540e+08\n",
              "1804    9.974856e+08\n",
              "            ...     \n",
              "2096    1.085507e+10\n",
              "2097    1.085810e+10\n",
              "2098    1.086331e+10\n",
              "2099    1.085769e+10\n",
              "2100    1.086488e+10\n",
              "Name: population, Length: 301, dtype: float64"
            ]
          },
          "execution_count": 84,
          "metadata": {},
          "output_type": "execute_result"
        }
      ],
      "source": [
        "data_grouped=data.groupby('year')['population'].sum()\n",
        "data_grouped"
      ]
    },
    {
      "cell_type": "code",
      "execution_count": null,
      "id": "114b86c3",
      "metadata": {
        "id": "114b86c3",
        "outputId": "6178208c-dfef-4e9f-f84b-655a2cac26f6"
      },
      "outputs": [
        {
          "data": {
            "text/plain": [
              "[<matplotlib.lines.Line2D at 0x231a213ed10>]"
            ]
          },
          "execution_count": 85,
          "metadata": {},
          "output_type": "execute_result"
        },
        {
          "data": {
            "image/png": "[encoded data removed]",
            "text/plain": [
              "<Figure size 640x480 with 1 Axes>"
            ]
          },
          "metadata": {},
          "output_type": "display_data"
        }
      ],
      "source": [
        "plt.plot(data_grouped)"
      ]
    },
    {
      "cell_type": "markdown",
      "id": "efdf41e4",
      "metadata": {
        "id": "efdf41e4"
      },
      "source": [
        "##### Insight:\n",
        "   from trends line : number of population increase each year\n",
        "    "
      ]
    },
    {
      "cell_type": "markdown",
      "id": "cc9fa121",
      "metadata": {
        "id": "cc9fa121"
      },
      "source": [
        "### getting max population for each country"
      ]
    },
    {
      "cell_type": "markdown",
      "id": "9c2b3c7a",
      "metadata": {
        "id": "9c2b3c7a"
      },
      "source": [
        "####  Round population column just to can plotting it in bar plot with these rounded values ."
      ]
    },
    {
      "cell_type": "code",
      "execution_count": null,
      "id": "e632bad5",
      "metadata": {
        "id": "e632bad5",
        "outputId": "f4f054c5-8413-4182-cefc-be13af7d917b"
      },
      "outputs": [
        {
          "data": {
            "text/plain": [
              "country\n",
              "Afghanistan             77000.0\n",
              "Albania                  3290.0\n",
              "Algeria                 70700.0\n",
              "Andorra                    84.5\n",
              "Angola                 188000.0\n",
              "Antigua and Barbuda       111.0\n",
              "Argentina               57900.0\n",
              "Armenia                  3540.0\n",
              "Australia               42900.0\n",
              "Austria                  9220.0\n",
              "Name: population, dtype: float64"
            ]
          },
          "execution_count": 86,
          "metadata": {},
          "output_type": "execute_result"
        }
      ],
      "source": [
        "data_grop_country=data.groupby('country')['population'].max()\n",
        "top_10_country_grouped=data_grop_country[:10]/1000\n",
        "top_10_country_grouped"
      ]
    },
    {
      "cell_type": "code",
      "execution_count": null,
      "id": "17faf60c",
      "metadata": {
        "id": "17faf60c",
        "outputId": "9f9fb5c6-aeef-46d3-8643-5ecae3c279e5"
      },
      "outputs": [
        {
          "data": {
            "text/plain": [
              "Text(0, 0.5, 'max_population')"
            ]
          },
          "execution_count": 87,
          "metadata": {},
          "output_type": "execute_result"
        },
        {
          "data": {
            "image/png": "[encoded data removed]",
            "text/plain": [
              "<Figure size 1000x800 with 1 Axes>"
            ]
          },
          "metadata": {},
          "output_type": "display_data"
        }
      ],
      "source": [
        "top_10_country_grouped.plot(kind='bar', figsize=(10, 8))\n",
        "plt.title('maximum population for first ten countries')\n",
        "plt.xlabel('country')\n",
        "plt.ylabel('max_population')"
      ]
    },
    {
      "cell_type": "code",
      "execution_count": null,
      "id": "1f288965",
      "metadata": {
        "id": "1f288965",
        "outputId": "ad5f20b9-f0c3-4000-ddec-ad8cc8388403"
      },
      "outputs": [
        {
          "data": {
            "text/plain": [
              "country\n",
              "India            1650000.000\n",
              "China            1460000.000\n",
              "Nigeria           733000.000\n",
              "United States     434000.000\n",
              "Pakistan          405000.000\n",
              "                    ...     \n",
              "San Marino            34.400\n",
              "Tuvalu                20.000\n",
              "Palau                 19.900\n",
              "Nauru                 11.000\n",
              "Holy See               0.912\n",
              "Name: population, Length: 197, dtype: float64"
            ]
          },
          "execution_count": 88,
          "metadata": {},
          "output_type": "execute_result"
        }
      ],
      "source": [
        "top_country_pop = data.groupby('country')['population'].max().sort_values(ascending=False)/1000\n",
        "top_country_pop"
      ]
    },
    {
      "cell_type": "code",
      "execution_count": null,
      "id": "490d88e5",
      "metadata": {
        "id": "490d88e5",
        "outputId": "b7878953-524d-4d1a-ccd8-c45eb1e5fbf4"
      },
      "outputs": [
        {
          "data": {
            "text/plain": [
              "Text(0, 0.5, 'max_country_population')"
            ]
          },
          "execution_count": 89,
          "metadata": {},
          "output_type": "execute_result"
        },
        {
          "data": {
            "image/png": "[encoded data removed]",
            "text/plain": [
              "<Figure size 1000x800 with 1 Axes>"
            ]
          },
          "metadata": {},
          "output_type": "display_data"
        }
      ],
      "source": [
        "top_country_pop[:5].plot(kind='bar', figsize=(10, 8),color='g')\n",
        "plt.title('first five countries based on population')\n",
        "plt.xlabel('country')\n",
        "plt.ylabel('max_country_population')"
      ]
    },
    {
      "cell_type": "markdown",
      "id": "040552d9",
      "metadata": {
        "id": "040552d9"
      },
      "source": [
        "## Insight:\n",
        "#### from these observation : India is most populated country in the world."
      ]
    },
    {
      "cell_type": "code",
      "execution_count": null,
      "id": "9538ef12",
      "metadata": {
        "id": "9538ef12",
        "outputId": "d9c921ec-bf64-4fca-cd9f-c15e99825ced"
      },
      "outputs": [
        {
          "data": {
            "text/plain": [
              "array(['Afghanistan', 'Angola', 'Albania', 'Andorra',\n",
              "       'United Arab Emirates', 'Argentina', 'Armenia',\n",
              "       'Antigua and Barbuda', 'Australia', 'Austria', 'Azerbaijan',\n",
              "       'Burundi', 'Belgium', 'Benin', 'Burkina Faso', 'Bangladesh',\n",
              "       'Bulgaria', 'Bahrain', 'Bahamas', 'Bosnia and Herzegovina',\n",
              "       'Belarus', 'Belize', 'Bolivia', 'Brazil', 'Barbados', 'Brunei',\n",
              "       'Bhutan', 'Botswana', 'Central African Republic', 'Canada',\n",
              "       'Switzerland', 'Chile', 'China', \"Cote d'Ivoire\", 'Cameroon',\n",
              "       'Congo, Dem. Rep.', 'Congo, Rep.', 'Colombia', 'Comoros',\n",
              "       'Cape Verde', 'Costa Rica', 'Cuba', 'Cyprus', 'Czech Republic',\n",
              "       'Germany', 'Djibouti', 'Dominica', 'Denmark', 'Dominican Republic',\n",
              "       'Algeria', 'Ecuador', 'Egypt', 'Eritrea', 'Spain', 'Estonia',\n",
              "       'Ethiopia', 'Finland', 'Fiji', 'France', 'Micronesia, Fed. Sts.',\n",
              "       'Gabon', 'United Kingdom', 'Georgia', 'Ghana', 'Guinea', 'Gambia',\n",
              "       'Guinea-Bissau', 'Equatorial Guinea', 'Greece', 'Grenada',\n",
              "       'Guatemala', 'Guyana', 'Hong Kong, China', 'Honduras', 'Holy See',\n",
              "       'Croatia', 'Haiti', 'Hungary', 'Indonesia', 'India', 'Ireland',\n",
              "       'Iran', 'Iraq', 'Iceland', 'Israel', 'Italy', 'Jamaica', 'Jordan',\n",
              "       'Japan', 'Kazakhstan', 'Kenya', 'Kyrgyz Republic', 'Cambodia',\n",
              "       'Kiribati', 'St. Kitts and Nevis', 'South Korea', 'Kuwait', 'Lao',\n",
              "       'Lebanon', 'Liberia', 'Libya', 'St. Lucia', 'Liechtenstein',\n",
              "       'Sri Lanka', 'Lesotho', 'Lithuania', 'Luxembourg', 'Latvia',\n",
              "       'Morocco', 'Monaco', 'Moldova', 'Madagascar', 'Maldives', 'Mexico',\n",
              "       'Marshall Islands', 'North Macedonia', 'Mali', 'Malta', 'Myanmar',\n",
              "       'Montenegro', 'Mongolia', 'Mozambique', 'Mauritania', 'Mauritius',\n",
              "       'Malawi', 'Malaysia', 'Namibia', 'Niger', 'Nigeria', 'Nicaragua',\n",
              "       'Netherlands', 'Norway', 'Nepal', 'Nauru', 'New Zealand', 'Oman',\n",
              "       'Pakistan', 'Panama', 'Peru', 'Philippines', 'Palau',\n",
              "       'Papua New Guinea', 'Poland', 'North Korea', 'Portugal',\n",
              "       'Paraguay', 'Palestine', 'Qatar', 'Romania', 'Russia', 'Rwanda',\n",
              "       'Saudi Arabia', 'Sudan', 'Senegal', 'Singapore', 'Solomon Islands',\n",
              "       'Sierra Leone', 'El Salvador', 'San Marino', 'Somalia', 'Serbia',\n",
              "       'South Sudan', 'Sao Tome and Principe', 'Suriname',\n",
              "       'Slovak Republic', 'Slovenia', 'Sweden', 'Eswatini', 'Seychelles',\n",
              "       'Syria', 'Chad', 'Togo', 'Thailand', 'Tajikistan', 'Turkmenistan',\n",
              "       'Timor-Leste', 'Tonga', 'Trinidad and Tobago', 'Tunisia', 'Turkey',\n",
              "       'Tuvalu', 'Taiwan', 'Tanzania', 'Uganda', 'Ukraine', 'Uruguay',\n",
              "       'United States', 'Uzbekistan', 'St. Vincent and the Grenadines',\n",
              "       'Venezuela', 'Vietnam', 'Vanuatu', 'Samoa', 'Yemen',\n",
              "       'South Africa', 'Zambia', 'Zimbabwe'], dtype=object)"
            ]
          },
          "execution_count": 90,
          "metadata": {},
          "output_type": "execute_result"
        }
      ],
      "source": [
        "data['country'].unique()"
      ]
    },
    {
      "cell_type": "markdown",
      "id": "98da4e41",
      "metadata": {
        "id": "98da4e41"
      },
      "source": [
        "### show trends in the two highest countries based on population over year"
      ]
    },
    {
      "cell_type": "code",
      "execution_count": null,
      "id": "b8ec15b2",
      "metadata": {
        "id": "b8ec15b2",
        "outputId": "fc4c3b99-0ecc-459a-d7e2-af8e8fa15513"
      },
      "outputs": [
        {
          "data": {
            "text/plain": [
              "<matplotlib.legend.Legend at 0x231a273f610>"
            ]
          },
          "execution_count": 94,
          "metadata": {},
          "output_type": "execute_result"
        },
        {
          "data": {
            "image/png": "[encoded data removed]",
            "text/plain": [
              "<Figure size 640x480 with 1 Axes>"
            ]
          },
          "metadata": {},
          "output_type": "display_data"
        }
      ],
      "source": [
        "ind=data[data['country']=='India']\n",
        "china=data[data['country']=='China']\n",
        "plt.plot(ind['year'],ind['population'],linewidth=5,label='India')\n",
        "plt.plot(china['year'],china['population'],linewidth=5,label='China')\n",
        "plt.xlabel('year')\n",
        "plt.ylabel(\"population in each country [India,China]\")\n",
        "plt.title(\"India & China population\")\n",
        "plt.legend()"
      ]
    },
    {
      "cell_type": "markdown",
      "id": "cd49b692",
      "metadata": {
        "id": "cd49b692"
      },
      "source": [
        "### Insight:\n",
        "from observation: in two countries the population increase each year but in India it decrease from 2050 and stabled and in china it decrease from 2000 and stabled"
      ]
    },
    {
      "cell_type": "code",
      "execution_count": null,
      "id": "ef8fed30",
      "metadata": {
        "id": "ef8fed30"
      },
      "outputs": [],
      "source": []
    },
    {
      "cell_type": "code",
      "execution_count": null,
      "id": "a4777028",
      "metadata": {
        "id": "a4777028"
      },
      "outputs": [],
      "source": []
    },
    {
      "cell_type": "code",
      "execution_count": null,
      "id": "26ab9c90",
      "metadata": {
        "id": "26ab9c90"
      },
      "outputs": [],
      "source": []
    },
    {
      "cell_type": "code",
      "execution_count": null,
      "id": "fd6ab0f9",
      "metadata": {
        "id": "fd6ab0f9"
      },
      "outputs": [],
      "source": []
    },
    {
      "cell_type": "code",
      "execution_count": null,
      "id": "ae035d73",
      "metadata": {
        "id": "ae035d73"
      },
      "outputs": [],
      "source": []
    },
    {
      "cell_type": "code",
      "execution_count": null,
      "id": "5102e5f1",
      "metadata": {
        "id": "5102e5f1"
      },
      "outputs": [],
      "source": []
    },
    {
      "cell_type": "code",
      "execution_count": null,
      "id": "c4fd3778",
      "metadata": {
        "id": "c4fd3778"
      },
      "outputs": [],
      "source": []
    }
  ],
  "metadata": {
    "kernelspec": {
      "display_name": "Python 3 (ipykernel)",
      "language": "python",
      "name": "python3"
    },
    "language_info": {
      "codemirror_mode": {
        "name": "ipython",
        "version": 3
      },
      "file_extension": ".py",
      "mimetype": "text/x-python",
      "name": "python",
      "nbconvert_exporter": "python",
      "pygments_lexer": "ipython3",
      "version": "3.11.3"
    },
    "colab": {
      "provenance": []
    }
  },
  "nbformat": 4,
  "nbformat_minor": 5
}