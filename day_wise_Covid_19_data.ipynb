{
  "cells": [
    {
      "cell_type": "markdown",
      "id": "02aefc7b",
      "metadata": {
        "id": "02aefc7b"
      },
      "source": [
        "#### import italy-covid-daywise.csv which contains day-wise Covid-19 data for Italy\n"
      ]
    },
    {
      "cell_type": "code",
      "execution_count": null,
      "id": "ae54d7f2",
      "metadata": {
        "id": "ae54d7f2"
      },
      "outputs": [],
      "source": [
        "import pandas as pd\n",
        "import numpy as np\n",
        "import matplotlib.pyplot as plt"
      ]
    },
    {
      "cell_type": "code",
      "execution_count": null,
      "id": "bfbed1c8",
      "metadata": {
        "id": "bfbed1c8",
        "outputId": "bd8d0eca-fa01-4149-c9a4-c3fc225c282f"
      },
      "outputs": [
        {
          "data": {
            "text/html": [
              "<div>\n",
              "<style scoped>\n",
              "    .dataframe tbody tr th:only-of-type {\n",
              "        vertical-align: middle;\n",
              "    }\n",
              "\n",
              "    .dataframe tbody tr th {\n",
              "        vertical-align: top;\n",
              "    }\n",
              "\n",
              "    .dataframe thead th {\n",
              "        text-align: right;\n",
              "    }\n",
              "</style>\n",
              "<table border=\"1\" class=\"dataframe\">\n",
              "  <thead>\n",
              "    <tr style=\"text-align: right;\">\n",
              "      <th></th>\n",
              "      <th>date</th>\n",
              "      <th>new_cases</th>\n",
              "      <th>new_deaths</th>\n",
              "      <th>new_tests</th>\n",
              "    </tr>\n",
              "  </thead>\n",
              "  <tbody>\n",
              "    <tr>\n",
              "      <th>0</th>\n",
              "      <td>2019-12-31</td>\n",
              "      <td>0.0</td>\n",
              "      <td>0.0</td>\n",
              "      <td>NaN</td>\n",
              "    </tr>\n",
              "    <tr>\n",
              "      <th>1</th>\n",
              "      <td>2020-01-01</td>\n",
              "      <td>0.0</td>\n",
              "      <td>0.0</td>\n",
              "      <td>NaN</td>\n",
              "    </tr>\n",
              "    <tr>\n",
              "      <th>2</th>\n",
              "      <td>2020-01-02</td>\n",
              "      <td>0.0</td>\n",
              "      <td>0.0</td>\n",
              "      <td>NaN</td>\n",
              "    </tr>\n",
              "    <tr>\n",
              "      <th>3</th>\n",
              "      <td>2020-01-03</td>\n",
              "      <td>0.0</td>\n",
              "      <td>0.0</td>\n",
              "      <td>NaN</td>\n",
              "    </tr>\n",
              "    <tr>\n",
              "      <th>4</th>\n",
              "      <td>2020-01-04</td>\n",
              "      <td>0.0</td>\n",
              "      <td>0.0</td>\n",
              "      <td>NaN</td>\n",
              "    </tr>\n",
              "  </tbody>\n",
              "</table>\n",
              "</div>"
            ],
            "text/plain": [
              "         date  new_cases  new_deaths  new_tests\n",
              "0  2019-12-31        0.0         0.0        NaN\n",
              "1  2020-01-01        0.0         0.0        NaN\n",
              "2  2020-01-02        0.0         0.0        NaN\n",
              "3  2020-01-03        0.0         0.0        NaN\n",
              "4  2020-01-04        0.0         0.0        NaN"
            ]
          },
          "execution_count": 2,
          "metadata": {},
          "output_type": "execute_result"
        }
      ],
      "source": [
        "data_covid=pd.read_csv('italy-covid-daywise.csv')\n",
        "data_covid.head()"
      ]
    },
    {
      "cell_type": "markdown",
      "id": "060a9026",
      "metadata": {
        "id": "060a9026"
      },
      "source": [
        "#### retrieve the number of rows and columns in the data frame"
      ]
    },
    {
      "cell_type": "code",
      "execution_count": null,
      "id": "95a9a068",
      "metadata": {
        "id": "95a9a068",
        "outputId": "8328ff24-2377-456c-985f-ce6bf74d8123"
      },
      "outputs": [
        {
          "data": {
            "text/plain": [
              "(248, 4)"
            ]
          },
          "execution_count": 3,
          "metadata": {},
          "output_type": "execute_result"
        }
      ],
      "source": [
        "data_covid.shape"
      ]
    },
    {
      "cell_type": "markdown",
      "id": "bbc8282f",
      "metadata": {
        "id": "bbc8282f"
      },
      "source": [
        "##### insight: number of rows :248 ,number of column :4"
      ]
    },
    {
      "cell_type": "code",
      "execution_count": null,
      "id": "0507bda1",
      "metadata": {
        "id": "0507bda1"
      },
      "outputs": [],
      "source": []
    },
    {
      "cell_type": "markdown",
      "id": "23fae45c",
      "metadata": {
        "id": "23fae45c"
      },
      "source": [
        "#### view statistical information for numerical columns\n"
      ]
    },
    {
      "cell_type": "code",
      "execution_count": null,
      "id": "6d634dbd",
      "metadata": {
        "id": "6d634dbd",
        "outputId": "fa643508-ebe9-4e19-f314-ddde9e67721e"
      },
      "outputs": [
        {
          "data": {
            "text/html": [
              "<div>\n",
              "<style scoped>\n",
              "    .dataframe tbody tr th:only-of-type {\n",
              "        vertical-align: middle;\n",
              "    }\n",
              "\n",
              "    .dataframe tbody tr th {\n",
              "        vertical-align: top;\n",
              "    }\n",
              "\n",
              "    .dataframe thead th {\n",
              "        text-align: right;\n",
              "    }\n",
              "</style>\n",
              "<table border=\"1\" class=\"dataframe\">\n",
              "  <thead>\n",
              "    <tr style=\"text-align: right;\">\n",
              "      <th></th>\n",
              "      <th>new_cases</th>\n",
              "      <th>new_deaths</th>\n",
              "      <th>new_tests</th>\n",
              "    </tr>\n",
              "  </thead>\n",
              "  <tbody>\n",
              "    <tr>\n",
              "      <th>count</th>\n",
              "      <td>248.000000</td>\n",
              "      <td>248.000000</td>\n",
              "      <td>135.000000</td>\n",
              "    </tr>\n",
              "    <tr>\n",
              "      <th>mean</th>\n",
              "      <td>1094.818548</td>\n",
              "      <td>143.133065</td>\n",
              "      <td>31699.674074</td>\n",
              "    </tr>\n",
              "    <tr>\n",
              "      <th>std</th>\n",
              "      <td>1554.508002</td>\n",
              "      <td>227.105538</td>\n",
              "      <td>11622.209757</td>\n",
              "    </tr>\n",
              "    <tr>\n",
              "      <th>min</th>\n",
              "      <td>-148.000000</td>\n",
              "      <td>-31.000000</td>\n",
              "      <td>7841.000000</td>\n",
              "    </tr>\n",
              "    <tr>\n",
              "      <th>25%</th>\n",
              "      <td>123.000000</td>\n",
              "      <td>3.000000</td>\n",
              "      <td>25259.000000</td>\n",
              "    </tr>\n",
              "    <tr>\n",
              "      <th>50%</th>\n",
              "      <td>342.000000</td>\n",
              "      <td>17.000000</td>\n",
              "      <td>29545.000000</td>\n",
              "    </tr>\n",
              "    <tr>\n",
              "      <th>75%</th>\n",
              "      <td>1371.750000</td>\n",
              "      <td>175.250000</td>\n",
              "      <td>37711.000000</td>\n",
              "    </tr>\n",
              "    <tr>\n",
              "      <th>max</th>\n",
              "      <td>6557.000000</td>\n",
              "      <td>971.000000</td>\n",
              "      <td>95273.000000</td>\n",
              "    </tr>\n",
              "  </tbody>\n",
              "</table>\n",
              "</div>"
            ],
            "text/plain": [
              "         new_cases  new_deaths     new_tests\n",
              "count   248.000000  248.000000    135.000000\n",
              "mean   1094.818548  143.133065  31699.674074\n",
              "std    1554.508002  227.105538  11622.209757\n",
              "min    -148.000000  -31.000000   7841.000000\n",
              "25%     123.000000    3.000000  25259.000000\n",
              "50%     342.000000   17.000000  29545.000000\n",
              "75%    1371.750000  175.250000  37711.000000\n",
              "max    6557.000000  971.000000  95273.000000"
            ]
          },
          "execution_count": 4,
          "metadata": {},
          "output_type": "execute_result"
        }
      ],
      "source": [
        "data_covid.describe()"
      ]
    },
    {
      "cell_type": "markdown",
      "id": "234922c1",
      "metadata": {
        "id": "234922c1"
      },
      "source": [
        "##### view some basic information about the data frame like data types, and number of non-nulls\n"
      ]
    },
    {
      "cell_type": "code",
      "execution_count": null,
      "id": "e96b9045",
      "metadata": {
        "id": "e96b9045",
        "outputId": "71868a04-412a-4886-8039-299cedce1e70"
      },
      "outputs": [
        {
          "name": "stdout",
          "output_type": "stream",
          "text": [
            "<class 'pandas.core.frame.DataFrame'>\n",
            "RangeIndex: 248 entries, 0 to 247\n",
            "Data columns (total 4 columns):\n",
            " #   Column      Non-Null Count  Dtype  \n",
            "---  ------      --------------  -----  \n",
            " 0   date        248 non-null    object \n",
            " 1   new_cases   248 non-null    float64\n",
            " 2   new_deaths  248 non-null    float64\n",
            " 3   new_tests   135 non-null    float64\n",
            "dtypes: float64(3), object(1)\n",
            "memory usage: 7.9+ KB\n"
          ]
        }
      ],
      "source": [
        "data_covid.info()"
      ]
    },
    {
      "cell_type": "markdown",
      "id": "f3391c61",
      "metadata": {
        "id": "f3391c61"
      },
      "source": [
        "#### create a list of columns within the data frame"
      ]
    },
    {
      "cell_type": "code",
      "execution_count": null,
      "id": "6ef62481",
      "metadata": {
        "id": "6ef62481",
        "outputId": "c1d52552-86b7-4fbd-88da-0916fc1a499d"
      },
      "outputs": [
        {
          "data": {
            "text/plain": [
              "['date', 'new_cases', 'new_deaths', 'new_tests']"
            ]
          },
          "execution_count": 6,
          "metadata": {},
          "output_type": "execute_result"
        }
      ],
      "source": [
        "list(data_covid.columns)"
      ]
    },
    {
      "cell_type": "markdown",
      "id": "3115eae5",
      "metadata": {
        "id": "3115eae5"
      },
      "source": [
        "##### return only the days which had more than 1000 reported cases\n"
      ]
    },
    {
      "cell_type": "code",
      "execution_count": null,
      "id": "ffcb349a",
      "metadata": {
        "id": "ffcb349a",
        "outputId": "7eaed538-8a01-4e9a-9174-51527e482780"
      },
      "outputs": [
        {
          "data": {
            "text/html": [
              "<div>\n",
              "<style scoped>\n",
              "    .dataframe tbody tr th:only-of-type {\n",
              "        vertical-align: middle;\n",
              "    }\n",
              "\n",
              "    .dataframe tbody tr th {\n",
              "        vertical-align: top;\n",
              "    }\n",
              "\n",
              "    .dataframe thead th {\n",
              "        text-align: right;\n",
              "    }\n",
              "</style>\n",
              "<table border=\"1\" class=\"dataframe\">\n",
              "  <thead>\n",
              "    <tr style=\"text-align: right;\">\n",
              "      <th></th>\n",
              "      <th>date</th>\n",
              "      <th>new_cases</th>\n",
              "      <th>new_deaths</th>\n",
              "      <th>new_tests</th>\n",
              "    </tr>\n",
              "  </thead>\n",
              "  <tbody>\n",
              "    <tr>\n",
              "      <th>68</th>\n",
              "      <td>2020-03-08</td>\n",
              "      <td>1247.0</td>\n",
              "      <td>36.0</td>\n",
              "      <td>NaN</td>\n",
              "    </tr>\n",
              "    <tr>\n",
              "      <th>69</th>\n",
              "      <td>2020-03-09</td>\n",
              "      <td>1492.0</td>\n",
              "      <td>133.0</td>\n",
              "      <td>NaN</td>\n",
              "    </tr>\n",
              "    <tr>\n",
              "      <th>70</th>\n",
              "      <td>2020-03-10</td>\n",
              "      <td>1797.0</td>\n",
              "      <td>98.0</td>\n",
              "      <td>NaN</td>\n",
              "    </tr>\n",
              "    <tr>\n",
              "      <th>72</th>\n",
              "      <td>2020-03-12</td>\n",
              "      <td>2313.0</td>\n",
              "      <td>196.0</td>\n",
              "      <td>NaN</td>\n",
              "    </tr>\n",
              "    <tr>\n",
              "      <th>73</th>\n",
              "      <td>2020-03-13</td>\n",
              "      <td>2651.0</td>\n",
              "      <td>189.0</td>\n",
              "      <td>NaN</td>\n",
              "    </tr>\n",
              "    <tr>\n",
              "      <th>...</th>\n",
              "      <td>...</td>\n",
              "      <td>...</td>\n",
              "      <td>...</td>\n",
              "      <td>...</td>\n",
              "    </tr>\n",
              "    <tr>\n",
              "      <th>241</th>\n",
              "      <td>2020-08-28</td>\n",
              "      <td>1409.0</td>\n",
              "      <td>5.0</td>\n",
              "      <td>65135.0</td>\n",
              "    </tr>\n",
              "    <tr>\n",
              "      <th>242</th>\n",
              "      <td>2020-08-29</td>\n",
              "      <td>1460.0</td>\n",
              "      <td>9.0</td>\n",
              "      <td>64294.0</td>\n",
              "    </tr>\n",
              "    <tr>\n",
              "      <th>243</th>\n",
              "      <td>2020-08-30</td>\n",
              "      <td>1444.0</td>\n",
              "      <td>1.0</td>\n",
              "      <td>53541.0</td>\n",
              "    </tr>\n",
              "    <tr>\n",
              "      <th>244</th>\n",
              "      <td>2020-08-31</td>\n",
              "      <td>1365.0</td>\n",
              "      <td>4.0</td>\n",
              "      <td>42583.0</td>\n",
              "    </tr>\n",
              "    <tr>\n",
              "      <th>247</th>\n",
              "      <td>2020-09-03</td>\n",
              "      <td>1326.0</td>\n",
              "      <td>6.0</td>\n",
              "      <td>NaN</td>\n",
              "    </tr>\n",
              "  </tbody>\n",
              "</table>\n",
              "<p>72 rows × 4 columns</p>\n",
              "</div>"
            ],
            "text/plain": [
              "           date  new_cases  new_deaths  new_tests\n",
              "68   2020-03-08     1247.0        36.0        NaN\n",
              "69   2020-03-09     1492.0       133.0        NaN\n",
              "70   2020-03-10     1797.0        98.0        NaN\n",
              "72   2020-03-12     2313.0       196.0        NaN\n",
              "73   2020-03-13     2651.0       189.0        NaN\n",
              "..          ...        ...         ...        ...\n",
              "241  2020-08-28     1409.0         5.0    65135.0\n",
              "242  2020-08-29     1460.0         9.0    64294.0\n",
              "243  2020-08-30     1444.0         1.0    53541.0\n",
              "244  2020-08-31     1365.0         4.0    42583.0\n",
              "247  2020-09-03     1326.0         6.0        NaN\n",
              "\n",
              "[72 rows x 4 columns]"
            ]
          },
          "execution_count": 7,
          "metadata": {},
          "output_type": "execute_result"
        }
      ],
      "source": [
        "data_covid[data_covid['new_cases']>1000]"
      ]
    },
    {
      "cell_type": "markdown",
      "id": "4c1f7a2c",
      "metadata": {
        "id": "4c1f7a2c"
      },
      "source": [
        "#### create positive_rate column that is equal to new_cases / new_tests\n"
      ]
    },
    {
      "cell_type": "code",
      "execution_count": null,
      "id": "da007366",
      "metadata": {
        "id": "da007366"
      },
      "outputs": [],
      "source": [
        "data_covid['positive_rate']=data_covid['new_cases'] / data_covid['new_tests']"
      ]
    },
    {
      "cell_type": "code",
      "execution_count": null,
      "id": "a9896059",
      "metadata": {
        "id": "a9896059",
        "outputId": "5a5f2edd-0d65-4099-bb1a-41c5c832ca54"
      },
      "outputs": [
        {
          "data": {
            "text/plain": [
              "0           NaN\n",
              "1           NaN\n",
              "2           NaN\n",
              "3           NaN\n",
              "4           NaN\n",
              "         ...   \n",
              "243    0.026970\n",
              "244    0.032055\n",
              "245    0.018311\n",
              "246         NaN\n",
              "247         NaN\n",
              "Name: positive_rate, Length: 248, dtype: float64"
            ]
          },
          "execution_count": 9,
          "metadata": {},
          "output_type": "execute_result"
        }
      ],
      "source": [
        "data_covid['positive_rate']"
      ]
    },
    {
      "cell_type": "code",
      "execution_count": null,
      "id": "3fc07b5c",
      "metadata": {
        "id": "3fc07b5c",
        "outputId": "19282b94-6906-4253-fd74-b09dbc70f08a"
      },
      "outputs": [
        {
          "data": {
            "text/html": [
              "<div>\n",
              "<style scoped>\n",
              "    .dataframe tbody tr th:only-of-type {\n",
              "        vertical-align: middle;\n",
              "    }\n",
              "\n",
              "    .dataframe tbody tr th {\n",
              "        vertical-align: top;\n",
              "    }\n",
              "\n",
              "    .dataframe thead th {\n",
              "        text-align: right;\n",
              "    }\n",
              "</style>\n",
              "<table border=\"1\" class=\"dataframe\">\n",
              "  <thead>\n",
              "    <tr style=\"text-align: right;\">\n",
              "      <th></th>\n",
              "      <th>date</th>\n",
              "      <th>new_cases</th>\n",
              "      <th>new_deaths</th>\n",
              "      <th>new_tests</th>\n",
              "      <th>positive_rate</th>\n",
              "    </tr>\n",
              "  </thead>\n",
              "  <tbody>\n",
              "    <tr>\n",
              "      <th>0</th>\n",
              "      <td>2019-12-31</td>\n",
              "      <td>0.0</td>\n",
              "      <td>0.0</td>\n",
              "      <td>NaN</td>\n",
              "      <td>NaN</td>\n",
              "    </tr>\n",
              "    <tr>\n",
              "      <th>1</th>\n",
              "      <td>2020-01-01</td>\n",
              "      <td>0.0</td>\n",
              "      <td>0.0</td>\n",
              "      <td>NaN</td>\n",
              "      <td>NaN</td>\n",
              "    </tr>\n",
              "    <tr>\n",
              "      <th>2</th>\n",
              "      <td>2020-01-02</td>\n",
              "      <td>0.0</td>\n",
              "      <td>0.0</td>\n",
              "      <td>NaN</td>\n",
              "      <td>NaN</td>\n",
              "    </tr>\n",
              "    <tr>\n",
              "      <th>3</th>\n",
              "      <td>2020-01-03</td>\n",
              "      <td>0.0</td>\n",
              "      <td>0.0</td>\n",
              "      <td>NaN</td>\n",
              "      <td>NaN</td>\n",
              "    </tr>\n",
              "    <tr>\n",
              "      <th>4</th>\n",
              "      <td>2020-01-04</td>\n",
              "      <td>0.0</td>\n",
              "      <td>0.0</td>\n",
              "      <td>NaN</td>\n",
              "      <td>NaN</td>\n",
              "    </tr>\n",
              "  </tbody>\n",
              "</table>\n",
              "</div>"
            ],
            "text/plain": [
              "         date  new_cases  new_deaths  new_tests  positive_rate\n",
              "0  2019-12-31        0.0         0.0        NaN            NaN\n",
              "1  2020-01-01        0.0         0.0        NaN            NaN\n",
              "2  2020-01-02        0.0         0.0        NaN            NaN\n",
              "3  2020-01-03        0.0         0.0        NaN            NaN\n",
              "4  2020-01-04        0.0         0.0        NaN            NaN"
            ]
          },
          "execution_count": 10,
          "metadata": {},
          "output_type": "execute_result"
        }
      ],
      "source": [
        "data_covid.head()"
      ]
    },
    {
      "cell_type": "markdown",
      "id": "0eae2f1b",
      "metadata": {
        "id": "0eae2f1b"
      },
      "source": [
        "#### let's remove the positive_rate column\n"
      ]
    },
    {
      "cell_type": "code",
      "execution_count": null,
      "id": "38fc0b52",
      "metadata": {
        "id": "38fc0b52",
        "outputId": "127323bb-d5f4-444e-fe58-a93512467a41"
      },
      "outputs": [
        {
          "data": {
            "text/html": [
              "<div>\n",
              "<style scoped>\n",
              "    .dataframe tbody tr th:only-of-type {\n",
              "        vertical-align: middle;\n",
              "    }\n",
              "\n",
              "    .dataframe tbody tr th {\n",
              "        vertical-align: top;\n",
              "    }\n",
              "\n",
              "    .dataframe thead th {\n",
              "        text-align: right;\n",
              "    }\n",
              "</style>\n",
              "<table border=\"1\" class=\"dataframe\">\n",
              "  <thead>\n",
              "    <tr style=\"text-align: right;\">\n",
              "      <th></th>\n",
              "      <th>date</th>\n",
              "      <th>new_cases</th>\n",
              "      <th>new_deaths</th>\n",
              "      <th>new_tests</th>\n",
              "    </tr>\n",
              "  </thead>\n",
              "  <tbody>\n",
              "    <tr>\n",
              "      <th>0</th>\n",
              "      <td>2019-12-31</td>\n",
              "      <td>0.0</td>\n",
              "      <td>0.0</td>\n",
              "      <td>NaN</td>\n",
              "    </tr>\n",
              "    <tr>\n",
              "      <th>1</th>\n",
              "      <td>2020-01-01</td>\n",
              "      <td>0.0</td>\n",
              "      <td>0.0</td>\n",
              "      <td>NaN</td>\n",
              "    </tr>\n",
              "    <tr>\n",
              "      <th>2</th>\n",
              "      <td>2020-01-02</td>\n",
              "      <td>0.0</td>\n",
              "      <td>0.0</td>\n",
              "      <td>NaN</td>\n",
              "    </tr>\n",
              "    <tr>\n",
              "      <th>3</th>\n",
              "      <td>2020-01-03</td>\n",
              "      <td>0.0</td>\n",
              "      <td>0.0</td>\n",
              "      <td>NaN</td>\n",
              "    </tr>\n",
              "    <tr>\n",
              "      <th>4</th>\n",
              "      <td>2020-01-04</td>\n",
              "      <td>0.0</td>\n",
              "      <td>0.0</td>\n",
              "      <td>NaN</td>\n",
              "    </tr>\n",
              "  </tbody>\n",
              "</table>\n",
              "</div>"
            ],
            "text/plain": [
              "         date  new_cases  new_deaths  new_tests\n",
              "0  2019-12-31        0.0         0.0        NaN\n",
              "1  2020-01-01        0.0         0.0        NaN\n",
              "2  2020-01-02        0.0         0.0        NaN\n",
              "3  2020-01-03        0.0         0.0        NaN\n",
              "4  2020-01-04        0.0         0.0        NaN"
            ]
          },
          "execution_count": 11,
          "metadata": {},
          "output_type": "execute_result"
        }
      ],
      "source": [
        "data_covid=data_covid.drop('positive_rate',axis=1)\n",
        "data_covid.head()"
      ]
    },
    {
      "cell_type": "markdown",
      "id": "68471360",
      "metadata": {
        "id": "68471360"
      },
      "source": [
        "#### sort to identify the days with the highest number of cases\n"
      ]
    },
    {
      "cell_type": "code",
      "execution_count": null,
      "id": "5bdc714d",
      "metadata": {
        "id": "5bdc714d",
        "outputId": "e53e403b-e6f3-4241-c5ef-9db756ff4ab3"
      },
      "outputs": [
        {
          "data": {
            "text/html": [
              "<div>\n",
              "<style scoped>\n",
              "    .dataframe tbody tr th:only-of-type {\n",
              "        vertical-align: middle;\n",
              "    }\n",
              "\n",
              "    .dataframe tbody tr th {\n",
              "        vertical-align: top;\n",
              "    }\n",
              "\n",
              "    .dataframe thead th {\n",
              "        text-align: right;\n",
              "    }\n",
              "</style>\n",
              "<table border=\"1\" class=\"dataframe\">\n",
              "  <thead>\n",
              "    <tr style=\"text-align: right;\">\n",
              "      <th></th>\n",
              "      <th>date</th>\n",
              "      <th>new_cases</th>\n",
              "      <th>new_deaths</th>\n",
              "      <th>new_tests</th>\n",
              "    </tr>\n",
              "  </thead>\n",
              "  <tbody>\n",
              "    <tr>\n",
              "      <th>82</th>\n",
              "      <td>2020-03-22</td>\n",
              "      <td>6557.0</td>\n",
              "      <td>795.0</td>\n",
              "      <td>NaN</td>\n",
              "    </tr>\n",
              "    <tr>\n",
              "      <th>87</th>\n",
              "      <td>2020-03-27</td>\n",
              "      <td>6153.0</td>\n",
              "      <td>660.0</td>\n",
              "      <td>NaN</td>\n",
              "    </tr>\n",
              "    <tr>\n",
              "      <th>81</th>\n",
              "      <td>2020-03-21</td>\n",
              "      <td>5986.0</td>\n",
              "      <td>625.0</td>\n",
              "      <td>NaN</td>\n",
              "    </tr>\n",
              "    <tr>\n",
              "      <th>89</th>\n",
              "      <td>2020-03-29</td>\n",
              "      <td>5974.0</td>\n",
              "      <td>887.0</td>\n",
              "      <td>NaN</td>\n",
              "    </tr>\n",
              "    <tr>\n",
              "      <th>88</th>\n",
              "      <td>2020-03-28</td>\n",
              "      <td>5959.0</td>\n",
              "      <td>971.0</td>\n",
              "      <td>NaN</td>\n",
              "    </tr>\n",
              "    <tr>\n",
              "      <th>...</th>\n",
              "      <td>...</td>\n",
              "      <td>...</td>\n",
              "      <td>...</td>\n",
              "      <td>...</td>\n",
              "    </tr>\n",
              "    <tr>\n",
              "      <th>28</th>\n",
              "      <td>2020-01-28</td>\n",
              "      <td>0.0</td>\n",
              "      <td>0.0</td>\n",
              "      <td>NaN</td>\n",
              "    </tr>\n",
              "    <tr>\n",
              "      <th>30</th>\n",
              "      <td>2020-01-30</td>\n",
              "      <td>0.0</td>\n",
              "      <td>0.0</td>\n",
              "      <td>NaN</td>\n",
              "    </tr>\n",
              "    <tr>\n",
              "      <th>32</th>\n",
              "      <td>2020-02-01</td>\n",
              "      <td>0.0</td>\n",
              "      <td>0.0</td>\n",
              "      <td>NaN</td>\n",
              "    </tr>\n",
              "    <tr>\n",
              "      <th>33</th>\n",
              "      <td>2020-02-02</td>\n",
              "      <td>0.0</td>\n",
              "      <td>0.0</td>\n",
              "      <td>NaN</td>\n",
              "    </tr>\n",
              "    <tr>\n",
              "      <th>172</th>\n",
              "      <td>2020-06-20</td>\n",
              "      <td>-148.0</td>\n",
              "      <td>47.0</td>\n",
              "      <td>29875.0</td>\n",
              "    </tr>\n",
              "  </tbody>\n",
              "</table>\n",
              "<p>248 rows × 4 columns</p>\n",
              "</div>"
            ],
            "text/plain": [
              "           date  new_cases  new_deaths  new_tests\n",
              "82   2020-03-22     6557.0       795.0        NaN\n",
              "87   2020-03-27     6153.0       660.0        NaN\n",
              "81   2020-03-21     5986.0       625.0        NaN\n",
              "89   2020-03-29     5974.0       887.0        NaN\n",
              "88   2020-03-28     5959.0       971.0        NaN\n",
              "..          ...        ...         ...        ...\n",
              "28   2020-01-28        0.0         0.0        NaN\n",
              "30   2020-01-30        0.0         0.0        NaN\n",
              "32   2020-02-01        0.0         0.0        NaN\n",
              "33   2020-02-02        0.0         0.0        NaN\n",
              "172  2020-06-20     -148.0        47.0    29875.0\n",
              "\n",
              "[248 rows x 4 columns]"
            ]
          },
          "execution_count": 12,
          "metadata": {},
          "output_type": "execute_result"
        }
      ],
      "source": [
        "data_covid.sort_values(by = ['new_cases'],ascending = False)"
      ]
    },
    {
      "cell_type": "markdown",
      "id": "f47aef45",
      "metadata": {
        "id": "f47aef45"
      },
      "source": [
        "##### check the data type of date column\n"
      ]
    },
    {
      "cell_type": "code",
      "execution_count": null,
      "id": "c1cb9b9d",
      "metadata": {
        "id": "c1cb9b9d",
        "outputId": "dcb7feb8-e21a-444d-ad9a-61d0353e0957"
      },
      "outputs": [
        {
          "data": {
            "text/plain": [
              "dtype('O')"
            ]
          },
          "execution_count": 13,
          "metadata": {},
          "output_type": "execute_result"
        }
      ],
      "source": [
        "data_covid['date'].dtype"
      ]
    },
    {
      "cell_type": "code",
      "execution_count": null,
      "id": "cb1bb622",
      "metadata": {
        "id": "cb1bb622",
        "outputId": "17517383-76b1-44e6-e522-d504e0e75b47"
      },
      "outputs": [
        {
          "name": "stdout",
          "output_type": "stream",
          "text": [
            "<class 'pandas.core.frame.DataFrame'>\n",
            "RangeIndex: 248 entries, 0 to 247\n",
            "Data columns (total 4 columns):\n",
            " #   Column      Non-Null Count  Dtype  \n",
            "---  ------      --------------  -----  \n",
            " 0   date        248 non-null    object \n",
            " 1   new_cases   248 non-null    float64\n",
            " 2   new_deaths  248 non-null    float64\n",
            " 3   new_tests   135 non-null    float64\n",
            "dtypes: float64(3), object(1)\n",
            "memory usage: 7.9+ KB\n"
          ]
        }
      ],
      "source": [
        "data_covid.info()"
      ]
    },
    {
      "cell_type": "markdown",
      "id": "37092ff0",
      "metadata": {
        "id": "37092ff0"
      },
      "source": [
        "#### then convert it into a datetime"
      ]
    },
    {
      "cell_type": "code",
      "execution_count": null,
      "id": "d6e66184",
      "metadata": {
        "id": "d6e66184"
      },
      "outputs": [],
      "source": [
        "data_covid['date'] = pd.to_datetime(data_covid['date'], errors='coerce')"
      ]
    },
    {
      "cell_type": "code",
      "execution_count": null,
      "id": "16835f68",
      "metadata": {
        "id": "16835f68",
        "outputId": "84de0bc7-79f7-4a0d-e438-cc33b758dcb8"
      },
      "outputs": [
        {
          "name": "stdout",
          "output_type": "stream",
          "text": [
            "<class 'pandas.core.frame.DataFrame'>\n",
            "RangeIndex: 248 entries, 0 to 247\n",
            "Data columns (total 4 columns):\n",
            " #   Column      Non-Null Count  Dtype         \n",
            "---  ------      --------------  -----         \n",
            " 0   date        248 non-null    datetime64[ns]\n",
            " 1   new_cases   248 non-null    float64       \n",
            " 2   new_deaths  248 non-null    float64       \n",
            " 3   new_tests   135 non-null    float64       \n",
            "dtypes: datetime64[ns](1), float64(3)\n",
            "memory usage: 7.9 KB\n"
          ]
        }
      ],
      "source": [
        "data_covid.info()"
      ]
    },
    {
      "cell_type": "markdown",
      "id": "890f71aa",
      "metadata": {
        "id": "890f71aa"
      },
      "source": [
        "#### extract different parts (day, month, weekday, and year) of the date column into separate columns\n"
      ]
    },
    {
      "cell_type": "code",
      "execution_count": null,
      "id": "a0d5eb2a",
      "metadata": {
        "id": "a0d5eb2a"
      },
      "outputs": [],
      "source": [
        "data_covid['day']=data_covid['date'].dt.day\n",
        "data_covid['month']=data_covid['date'].dt.month\n",
        "data_covid['year']=data_covid['date'].dt.year\n",
        "data_covid['weekday']=data_covid['date'].dt.weekday\n"
      ]
    },
    {
      "cell_type": "code",
      "execution_count": null,
      "id": "2ddbd835",
      "metadata": {
        "id": "2ddbd835",
        "outputId": "3f66cec5-b2d6-4341-94d9-6b0a86600446"
      },
      "outputs": [
        {
          "data": {
            "text/html": [
              "<div>\n",
              "<style scoped>\n",
              "    .dataframe tbody tr th:only-of-type {\n",
              "        vertical-align: middle;\n",
              "    }\n",
              "\n",
              "    .dataframe tbody tr th {\n",
              "        vertical-align: top;\n",
              "    }\n",
              "\n",
              "    .dataframe thead th {\n",
              "        text-align: right;\n",
              "    }\n",
              "</style>\n",
              "<table border=\"1\" class=\"dataframe\">\n",
              "  <thead>\n",
              "    <tr style=\"text-align: right;\">\n",
              "      <th></th>\n",
              "      <th>date</th>\n",
              "      <th>new_cases</th>\n",
              "      <th>new_deaths</th>\n",
              "      <th>new_tests</th>\n",
              "      <th>day</th>\n",
              "      <th>month</th>\n",
              "      <th>year</th>\n",
              "      <th>weekday</th>\n",
              "    </tr>\n",
              "  </thead>\n",
              "  <tbody>\n",
              "    <tr>\n",
              "      <th>0</th>\n",
              "      <td>2019-12-31</td>\n",
              "      <td>0.0</td>\n",
              "      <td>0.0</td>\n",
              "      <td>NaN</td>\n",
              "      <td>31</td>\n",
              "      <td>12</td>\n",
              "      <td>2019</td>\n",
              "      <td>1</td>\n",
              "    </tr>\n",
              "    <tr>\n",
              "      <th>1</th>\n",
              "      <td>2020-01-01</td>\n",
              "      <td>0.0</td>\n",
              "      <td>0.0</td>\n",
              "      <td>NaN</td>\n",
              "      <td>1</td>\n",
              "      <td>1</td>\n",
              "      <td>2020</td>\n",
              "      <td>2</td>\n",
              "    </tr>\n",
              "    <tr>\n",
              "      <th>2</th>\n",
              "      <td>2020-01-02</td>\n",
              "      <td>0.0</td>\n",
              "      <td>0.0</td>\n",
              "      <td>NaN</td>\n",
              "      <td>2</td>\n",
              "      <td>1</td>\n",
              "      <td>2020</td>\n",
              "      <td>3</td>\n",
              "    </tr>\n",
              "    <tr>\n",
              "      <th>3</th>\n",
              "      <td>2020-01-03</td>\n",
              "      <td>0.0</td>\n",
              "      <td>0.0</td>\n",
              "      <td>NaN</td>\n",
              "      <td>3</td>\n",
              "      <td>1</td>\n",
              "      <td>2020</td>\n",
              "      <td>4</td>\n",
              "    </tr>\n",
              "    <tr>\n",
              "      <th>4</th>\n",
              "      <td>2020-01-04</td>\n",
              "      <td>0.0</td>\n",
              "      <td>0.0</td>\n",
              "      <td>NaN</td>\n",
              "      <td>4</td>\n",
              "      <td>1</td>\n",
              "      <td>2020</td>\n",
              "      <td>5</td>\n",
              "    </tr>\n",
              "  </tbody>\n",
              "</table>\n",
              "</div>"
            ],
            "text/plain": [
              "        date  new_cases  new_deaths  new_tests  day  month  year  weekday\n",
              "0 2019-12-31        0.0         0.0        NaN   31     12  2019        1\n",
              "1 2020-01-01        0.0         0.0        NaN    1      1  2020        2\n",
              "2 2020-01-02        0.0         0.0        NaN    2      1  2020        3\n",
              "3 2020-01-03        0.0         0.0        NaN    3      1  2020        4\n",
              "4 2020-01-04        0.0         0.0        NaN    4      1  2020        5"
            ]
          },
          "execution_count": 18,
          "metadata": {},
          "output_type": "execute_result"
        }
      ],
      "source": [
        "data_covid.head()"
      ]
    },
    {
      "cell_type": "code",
      "execution_count": null,
      "id": "49d5445c",
      "metadata": {
        "id": "49d5445c"
      },
      "outputs": [],
      "source": [
        "# data_covid=data_covid.drop('date',axis=1)\n",
        "# data_covid.head()"
      ]
    },
    {
      "cell_type": "markdown",
      "id": "15a593f2",
      "metadata": {
        "id": "15a593f2"
      },
      "source": [
        "#### check the overall metrics for May"
      ]
    },
    {
      "cell_type": "code",
      "execution_count": null,
      "id": "1c644532",
      "metadata": {
        "id": "1c644532",
        "outputId": "0a12dd60-639b-4180-adbe-39cb5f4234fb"
      },
      "outputs": [
        {
          "data": {
            "text/html": [
              "<div>\n",
              "<style scoped>\n",
              "    .dataframe tbody tr th:only-of-type {\n",
              "        vertical-align: middle;\n",
              "    }\n",
              "\n",
              "    .dataframe tbody tr th {\n",
              "        vertical-align: top;\n",
              "    }\n",
              "\n",
              "    .dataframe thead th {\n",
              "        text-align: right;\n",
              "    }\n",
              "</style>\n",
              "<table border=\"1\" class=\"dataframe\">\n",
              "  <thead>\n",
              "    <tr style=\"text-align: right;\">\n",
              "      <th></th>\n",
              "      <th>date</th>\n",
              "      <th>new_cases</th>\n",
              "      <th>new_deaths</th>\n",
              "      <th>new_tests</th>\n",
              "      <th>day</th>\n",
              "      <th>month</th>\n",
              "      <th>year</th>\n",
              "      <th>weekday</th>\n",
              "    </tr>\n",
              "  </thead>\n",
              "  <tbody>\n",
              "    <tr>\n",
              "      <th>122</th>\n",
              "      <td>2020-05-01</td>\n",
              "      <td>1872.0</td>\n",
              "      <td>285.0</td>\n",
              "      <td>43732.0</td>\n",
              "      <td>1</td>\n",
              "      <td>5</td>\n",
              "      <td>2020</td>\n",
              "      <td>4</td>\n",
              "    </tr>\n",
              "    <tr>\n",
              "      <th>123</th>\n",
              "      <td>2020-05-02</td>\n",
              "      <td>1965.0</td>\n",
              "      <td>269.0</td>\n",
              "      <td>31231.0</td>\n",
              "      <td>2</td>\n",
              "      <td>5</td>\n",
              "      <td>2020</td>\n",
              "      <td>5</td>\n",
              "    </tr>\n",
              "    <tr>\n",
              "      <th>124</th>\n",
              "      <td>2020-05-03</td>\n",
              "      <td>1900.0</td>\n",
              "      <td>474.0</td>\n",
              "      <td>27047.0</td>\n",
              "      <td>3</td>\n",
              "      <td>5</td>\n",
              "      <td>2020</td>\n",
              "      <td>6</td>\n",
              "    </tr>\n",
              "    <tr>\n",
              "      <th>125</th>\n",
              "      <td>2020-05-04</td>\n",
              "      <td>1389.0</td>\n",
              "      <td>174.0</td>\n",
              "      <td>22999.0</td>\n",
              "      <td>4</td>\n",
              "      <td>5</td>\n",
              "      <td>2020</td>\n",
              "      <td>0</td>\n",
              "    </tr>\n",
              "    <tr>\n",
              "      <th>126</th>\n",
              "      <td>2020-05-05</td>\n",
              "      <td>1221.0</td>\n",
              "      <td>195.0</td>\n",
              "      <td>32211.0</td>\n",
              "      <td>5</td>\n",
              "      <td>5</td>\n",
              "      <td>2020</td>\n",
              "      <td>1</td>\n",
              "    </tr>\n",
              "    <tr>\n",
              "      <th>127</th>\n",
              "      <td>2020-05-06</td>\n",
              "      <td>1075.0</td>\n",
              "      <td>236.0</td>\n",
              "      <td>37771.0</td>\n",
              "      <td>6</td>\n",
              "      <td>5</td>\n",
              "      <td>2020</td>\n",
              "      <td>2</td>\n",
              "    </tr>\n",
              "    <tr>\n",
              "      <th>128</th>\n",
              "      <td>2020-05-07</td>\n",
              "      <td>1444.0</td>\n",
              "      <td>369.0</td>\n",
              "      <td>13665.0</td>\n",
              "      <td>7</td>\n",
              "      <td>5</td>\n",
              "      <td>2020</td>\n",
              "      <td>3</td>\n",
              "    </tr>\n",
              "    <tr>\n",
              "      <th>129</th>\n",
              "      <td>2020-05-08</td>\n",
              "      <td>1401.0</td>\n",
              "      <td>274.0</td>\n",
              "      <td>45428.0</td>\n",
              "      <td>8</td>\n",
              "      <td>5</td>\n",
              "      <td>2020</td>\n",
              "      <td>4</td>\n",
              "    </tr>\n",
              "    <tr>\n",
              "      <th>130</th>\n",
              "      <td>2020-05-09</td>\n",
              "      <td>1327.0</td>\n",
              "      <td>243.0</td>\n",
              "      <td>36091.0</td>\n",
              "      <td>9</td>\n",
              "      <td>5</td>\n",
              "      <td>2020</td>\n",
              "      <td>5</td>\n",
              "    </tr>\n",
              "    <tr>\n",
              "      <th>131</th>\n",
              "      <td>2020-05-10</td>\n",
              "      <td>1083.0</td>\n",
              "      <td>194.0</td>\n",
              "      <td>31384.0</td>\n",
              "      <td>10</td>\n",
              "      <td>5</td>\n",
              "      <td>2020</td>\n",
              "      <td>6</td>\n",
              "    </tr>\n",
              "    <tr>\n",
              "      <th>132</th>\n",
              "      <td>2020-05-11</td>\n",
              "      <td>802.0</td>\n",
              "      <td>165.0</td>\n",
              "      <td>25823.0</td>\n",
              "      <td>11</td>\n",
              "      <td>5</td>\n",
              "      <td>2020</td>\n",
              "      <td>0</td>\n",
              "    </tr>\n",
              "    <tr>\n",
              "      <th>133</th>\n",
              "      <td>2020-05-12</td>\n",
              "      <td>744.0</td>\n",
              "      <td>179.0</td>\n",
              "      <td>39620.0</td>\n",
              "      <td>12</td>\n",
              "      <td>5</td>\n",
              "      <td>2020</td>\n",
              "      <td>1</td>\n",
              "    </tr>\n",
              "    <tr>\n",
              "      <th>134</th>\n",
              "      <td>2020-05-13</td>\n",
              "      <td>1402.0</td>\n",
              "      <td>172.0</td>\n",
              "      <td>37049.0</td>\n",
              "      <td>13</td>\n",
              "      <td>5</td>\n",
              "      <td>2020</td>\n",
              "      <td>2</td>\n",
              "    </tr>\n",
              "    <tr>\n",
              "      <th>135</th>\n",
              "      <td>2020-05-14</td>\n",
              "      <td>888.0</td>\n",
              "      <td>195.0</td>\n",
              "      <td>41131.0</td>\n",
              "      <td>14</td>\n",
              "      <td>5</td>\n",
              "      <td>2020</td>\n",
              "      <td>3</td>\n",
              "    </tr>\n",
              "    <tr>\n",
              "      <th>136</th>\n",
              "      <td>2020-05-15</td>\n",
              "      <td>992.0</td>\n",
              "      <td>262.0</td>\n",
              "      <td>39027.0</td>\n",
              "      <td>15</td>\n",
              "      <td>5</td>\n",
              "      <td>2020</td>\n",
              "      <td>4</td>\n",
              "    </tr>\n",
              "    <tr>\n",
              "      <th>137</th>\n",
              "      <td>2020-05-16</td>\n",
              "      <td>789.0</td>\n",
              "      <td>242.0</td>\n",
              "      <td>40657.0</td>\n",
              "      <td>16</td>\n",
              "      <td>5</td>\n",
              "      <td>2020</td>\n",
              "      <td>5</td>\n",
              "    </tr>\n",
              "    <tr>\n",
              "      <th>138</th>\n",
              "      <td>2020-05-17</td>\n",
              "      <td>875.0</td>\n",
              "      <td>153.0</td>\n",
              "      <td>33505.0</td>\n",
              "      <td>17</td>\n",
              "      <td>5</td>\n",
              "      <td>2020</td>\n",
              "      <td>6</td>\n",
              "    </tr>\n",
              "    <tr>\n",
              "      <th>139</th>\n",
              "      <td>2020-05-18</td>\n",
              "      <td>675.0</td>\n",
              "      <td>145.0</td>\n",
              "      <td>26101.0</td>\n",
              "      <td>18</td>\n",
              "      <td>5</td>\n",
              "      <td>2020</td>\n",
              "      <td>0</td>\n",
              "    </tr>\n",
              "    <tr>\n",
              "      <th>140</th>\n",
              "      <td>2020-05-19</td>\n",
              "      <td>451.0</td>\n",
              "      <td>99.0</td>\n",
              "      <td>40226.0</td>\n",
              "      <td>19</td>\n",
              "      <td>5</td>\n",
              "      <td>2020</td>\n",
              "      <td>1</td>\n",
              "    </tr>\n",
              "    <tr>\n",
              "      <th>141</th>\n",
              "      <td>2020-05-20</td>\n",
              "      <td>813.0</td>\n",
              "      <td>162.0</td>\n",
              "      <td>38617.0</td>\n",
              "      <td>20</td>\n",
              "      <td>5</td>\n",
              "      <td>2020</td>\n",
              "      <td>2</td>\n",
              "    </tr>\n",
              "    <tr>\n",
              "      <th>142</th>\n",
              "      <td>2020-05-21</td>\n",
              "      <td>665.0</td>\n",
              "      <td>161.0</td>\n",
              "      <td>40644.0</td>\n",
              "      <td>21</td>\n",
              "      <td>5</td>\n",
              "      <td>2020</td>\n",
              "      <td>3</td>\n",
              "    </tr>\n",
              "    <tr>\n",
              "      <th>143</th>\n",
              "      <td>2020-05-22</td>\n",
              "      <td>642.0</td>\n",
              "      <td>156.0</td>\n",
              "      <td>42987.0</td>\n",
              "      <td>22</td>\n",
              "      <td>5</td>\n",
              "      <td>2020</td>\n",
              "      <td>4</td>\n",
              "    </tr>\n",
              "    <tr>\n",
              "      <th>144</th>\n",
              "      <td>2020-05-23</td>\n",
              "      <td>652.0</td>\n",
              "      <td>130.0</td>\n",
              "      <td>42579.0</td>\n",
              "      <td>23</td>\n",
              "      <td>5</td>\n",
              "      <td>2020</td>\n",
              "      <td>5</td>\n",
              "    </tr>\n",
              "    <tr>\n",
              "      <th>145</th>\n",
              "      <td>2020-05-24</td>\n",
              "      <td>669.0</td>\n",
              "      <td>119.0</td>\n",
              "      <td>34206.0</td>\n",
              "      <td>24</td>\n",
              "      <td>5</td>\n",
              "      <td>2020</td>\n",
              "      <td>6</td>\n",
              "    </tr>\n",
              "    <tr>\n",
              "      <th>146</th>\n",
              "      <td>2020-05-25</td>\n",
              "      <td>531.0</td>\n",
              "      <td>50.0</td>\n",
              "      <td>20676.0</td>\n",
              "      <td>25</td>\n",
              "      <td>5</td>\n",
              "      <td>2020</td>\n",
              "      <td>0</td>\n",
              "    </tr>\n",
              "    <tr>\n",
              "      <th>147</th>\n",
              "      <td>2020-05-26</td>\n",
              "      <td>300.0</td>\n",
              "      <td>92.0</td>\n",
              "      <td>33944.0</td>\n",
              "      <td>26</td>\n",
              "      <td>5</td>\n",
              "      <td>2020</td>\n",
              "      <td>1</td>\n",
              "    </tr>\n",
              "    <tr>\n",
              "      <th>148</th>\n",
              "      <td>2020-05-27</td>\n",
              "      <td>397.0</td>\n",
              "      <td>78.0</td>\n",
              "      <td>37299.0</td>\n",
              "      <td>27</td>\n",
              "      <td>5</td>\n",
              "      <td>2020</td>\n",
              "      <td>2</td>\n",
              "    </tr>\n",
              "    <tr>\n",
              "      <th>149</th>\n",
              "      <td>2020-05-28</td>\n",
              "      <td>584.0</td>\n",
              "      <td>117.0</td>\n",
              "      <td>39838.0</td>\n",
              "      <td>28</td>\n",
              "      <td>5</td>\n",
              "      <td>2020</td>\n",
              "      <td>3</td>\n",
              "    </tr>\n",
              "    <tr>\n",
              "      <th>150</th>\n",
              "      <td>2020-05-29</td>\n",
              "      <td>593.0</td>\n",
              "      <td>70.0</td>\n",
              "      <td>38233.0</td>\n",
              "      <td>29</td>\n",
              "      <td>5</td>\n",
              "      <td>2020</td>\n",
              "      <td>4</td>\n",
              "    </tr>\n",
              "    <tr>\n",
              "      <th>151</th>\n",
              "      <td>2020-05-30</td>\n",
              "      <td>516.0</td>\n",
              "      <td>87.0</td>\n",
              "      <td>36051.0</td>\n",
              "      <td>30</td>\n",
              "      <td>5</td>\n",
              "      <td>2020</td>\n",
              "      <td>5</td>\n",
              "    </tr>\n",
              "    <tr>\n",
              "      <th>152</th>\n",
              "      <td>2020-05-31</td>\n",
              "      <td>416.0</td>\n",
              "      <td>111.0</td>\n",
              "      <td>28948.0</td>\n",
              "      <td>31</td>\n",
              "      <td>5</td>\n",
              "      <td>2020</td>\n",
              "      <td>6</td>\n",
              "    </tr>\n",
              "  </tbody>\n",
              "</table>\n",
              "</div>"
            ],
            "text/plain": [
              "          date  new_cases  new_deaths  new_tests  day  month  year  weekday\n",
              "122 2020-05-01     1872.0       285.0    43732.0    1      5  2020        4\n",
              "123 2020-05-02     1965.0       269.0    31231.0    2      5  2020        5\n",
              "124 2020-05-03     1900.0       474.0    27047.0    3      5  2020        6\n",
              "125 2020-05-04     1389.0       174.0    22999.0    4      5  2020        0\n",
              "126 2020-05-05     1221.0       195.0    32211.0    5      5  2020        1\n",
              "127 2020-05-06     1075.0       236.0    37771.0    6      5  2020        2\n",
              "128 2020-05-07     1444.0       369.0    13665.0    7      5  2020        3\n",
              "129 2020-05-08     1401.0       274.0    45428.0    8      5  2020        4\n",
              "130 2020-05-09     1327.0       243.0    36091.0    9      5  2020        5\n",
              "131 2020-05-10     1083.0       194.0    31384.0   10      5  2020        6\n",
              "132 2020-05-11      802.0       165.0    25823.0   11      5  2020        0\n",
              "133 2020-05-12      744.0       179.0    39620.0   12      5  2020        1\n",
              "134 2020-05-13     1402.0       172.0    37049.0   13      5  2020        2\n",
              "135 2020-05-14      888.0       195.0    41131.0   14      5  2020        3\n",
              "136 2020-05-15      992.0       262.0    39027.0   15      5  2020        4\n",
              "137 2020-05-16      789.0       242.0    40657.0   16      5  2020        5\n",
              "138 2020-05-17      875.0       153.0    33505.0   17      5  2020        6\n",
              "139 2020-05-18      675.0       145.0    26101.0   18      5  2020        0\n",
              "140 2020-05-19      451.0        99.0    40226.0   19      5  2020        1\n",
              "141 2020-05-20      813.0       162.0    38617.0   20      5  2020        2\n",
              "142 2020-05-21      665.0       161.0    40644.0   21      5  2020        3\n",
              "143 2020-05-22      642.0       156.0    42987.0   22      5  2020        4\n",
              "144 2020-05-23      652.0       130.0    42579.0   23      5  2020        5\n",
              "145 2020-05-24      669.0       119.0    34206.0   24      5  2020        6\n",
              "146 2020-05-25      531.0        50.0    20676.0   25      5  2020        0\n",
              "147 2020-05-26      300.0        92.0    33944.0   26      5  2020        1\n",
              "148 2020-05-27      397.0        78.0    37299.0   27      5  2020        2\n",
              "149 2020-05-28      584.0       117.0    39838.0   28      5  2020        3\n",
              "150 2020-05-29      593.0        70.0    38233.0   29      5  2020        4\n",
              "151 2020-05-30      516.0        87.0    36051.0   30      5  2020        5\n",
              "152 2020-05-31      416.0       111.0    28948.0   31      5  2020        6"
            ]
          },
          "execution_count": 20,
          "metadata": {},
          "output_type": "execute_result"
        }
      ],
      "source": [
        "data_covid[data_covid['month']==5]"
      ]
    },
    {
      "cell_type": "markdown",
      "id": "8ba61198",
      "metadata": {
        "id": "8ba61198"
      },
      "source": [
        "#### which day seems like have more cases"
      ]
    },
    {
      "cell_type": "code",
      "execution_count": null,
      "id": "4a5f593f",
      "metadata": {
        "id": "4a5f593f",
        "outputId": "354ede43-f412-46fe-c116-7906e81f87da"
      },
      "outputs": [
        {
          "data": {
            "text/plain": [
              "6557.0"
            ]
          },
          "execution_count": 21,
          "metadata": {},
          "output_type": "execute_result"
        }
      ],
      "source": [
        "data_covid['new_cases'].max()"
      ]
    },
    {
      "cell_type": "code",
      "execution_count": null,
      "id": "b955eebc",
      "metadata": {
        "id": "b955eebc",
        "outputId": "761d7ca7-33b6-49f7-bd72-48e3023d44aa"
      },
      "outputs": [
        {
          "data": {
            "text/html": [
              "<div>\n",
              "<style scoped>\n",
              "    .dataframe tbody tr th:only-of-type {\n",
              "        vertical-align: middle;\n",
              "    }\n",
              "\n",
              "    .dataframe tbody tr th {\n",
              "        vertical-align: top;\n",
              "    }\n",
              "\n",
              "    .dataframe thead th {\n",
              "        text-align: right;\n",
              "    }\n",
              "</style>\n",
              "<table border=\"1\" class=\"dataframe\">\n",
              "  <thead>\n",
              "    <tr style=\"text-align: right;\">\n",
              "      <th></th>\n",
              "      <th>date</th>\n",
              "      <th>new_cases</th>\n",
              "      <th>new_deaths</th>\n",
              "      <th>new_tests</th>\n",
              "      <th>day</th>\n",
              "      <th>month</th>\n",
              "      <th>year</th>\n",
              "      <th>weekday</th>\n",
              "    </tr>\n",
              "  </thead>\n",
              "  <tbody>\n",
              "    <tr>\n",
              "      <th>82</th>\n",
              "      <td>2020-03-22</td>\n",
              "      <td>6557.0</td>\n",
              "      <td>795.0</td>\n",
              "      <td>NaN</td>\n",
              "      <td>22</td>\n",
              "      <td>3</td>\n",
              "      <td>2020</td>\n",
              "      <td>6</td>\n",
              "    </tr>\n",
              "  </tbody>\n",
              "</table>\n",
              "</div>"
            ],
            "text/plain": [
              "         date  new_cases  new_deaths  new_tests  day  month  year  weekday\n",
              "82 2020-03-22     6557.0       795.0        NaN   22      3  2020        6"
            ]
          },
          "execution_count": 22,
          "metadata": {},
          "output_type": "execute_result"
        }
      ],
      "source": [
        "data_covid[data_covid['new_cases']==6557.0]"
      ]
    },
    {
      "cell_type": "markdown",
      "id": "36d22886",
      "metadata": {
        "id": "36d22886"
      },
      "source": [
        "#### create a new dataframe with month-wise data\n"
      ]
    },
    {
      "cell_type": "code",
      "execution_count": null,
      "id": "d0793d46",
      "metadata": {
        "id": "d0793d46",
        "outputId": "3e91f3f6-81cd-4358-bdd2-9b6c288c18cd"
      },
      "outputs": [
        {
          "data": {
            "text/html": [
              "<div>\n",
              "<style scoped>\n",
              "    .dataframe tbody tr th:only-of-type {\n",
              "        vertical-align: middle;\n",
              "    }\n",
              "\n",
              "    .dataframe tbody tr th {\n",
              "        vertical-align: top;\n",
              "    }\n",
              "\n",
              "    .dataframe thead th {\n",
              "        text-align: right;\n",
              "    }\n",
              "</style>\n",
              "<table border=\"1\" class=\"dataframe\">\n",
              "  <thead>\n",
              "    <tr style=\"text-align: right;\">\n",
              "      <th></th>\n",
              "      <th>month</th>\n",
              "    </tr>\n",
              "  </thead>\n",
              "  <tbody>\n",
              "    <tr>\n",
              "      <th>0</th>\n",
              "      <td>12</td>\n",
              "    </tr>\n",
              "    <tr>\n",
              "      <th>1</th>\n",
              "      <td>1</td>\n",
              "    </tr>\n",
              "    <tr>\n",
              "      <th>2</th>\n",
              "      <td>1</td>\n",
              "    </tr>\n",
              "    <tr>\n",
              "      <th>3</th>\n",
              "      <td>1</td>\n",
              "    </tr>\n",
              "    <tr>\n",
              "      <th>4</th>\n",
              "      <td>1</td>\n",
              "    </tr>\n",
              "  </tbody>\n",
              "</table>\n",
              "</div>"
            ],
            "text/plain": [
              "   month\n",
              "0     12\n",
              "1      1\n",
              "2      1\n",
              "3      1\n",
              "4      1"
            ]
          },
          "execution_count": 23,
          "metadata": {},
          "output_type": "execute_result"
        }
      ],
      "source": [
        "month_wise=pd.DataFrame(data_covid['month'])\n",
        "month_wise.head()"
      ]
    },
    {
      "cell_type": "markdown",
      "id": "c3488def",
      "metadata": {
        "id": "c3488def"
      },
      "source": [
        "#### plot a line graph showing how the number of daily cases varies over time"
      ]
    },
    {
      "cell_type": "code",
      "execution_count": null,
      "id": "17268fc0",
      "metadata": {
        "id": "17268fc0",
        "outputId": "6c8b7396-dcbe-489a-9a7d-0a85b671e12f"
      },
      "outputs": [
        {
          "data": {
            "image/png": "[encoded data removed]",
            "text/plain": [
              "<Figure size 1000x500 with 1 Axes>"
            ]
          },
          "metadata": {},
          "output_type": "display_data"
        }
      ],
      "source": [
        "plt.figure(figsize=(10,5))\n",
        "plt.plot(data_covid['date'],data_covid['new_cases'])\n",
        "plt.title('how the number of daily cases varies over time')\n",
        "plt.xlabel('date')\n",
        "plt.ylabel('new_cases')\n",
        "plt.show()"
      ]
    },
    {
      "cell_type": "code",
      "execution_count": null,
      "id": "c6c6fe01",
      "metadata": {
        "id": "c6c6fe01"
      },
      "outputs": [],
      "source": []
    }
  ],
  "metadata": {
    "kernelspec": {
      "display_name": "Python 3 (ipykernel)",
      "language": "python",
      "name": "python3"
    },
    "language_info": {
      "codemirror_mode": {
        "name": "ipython",
        "version": 3
      },
      "file_extension": ".py",
      "mimetype": "text/x-python",
      "name": "python",
      "nbconvert_exporter": "python",
      "pygments_lexer": "ipython3",
      "version": "3.11.3"
    },
    "colab": {
      "provenance": []
    }
  },
  "nbformat": 4,
  "nbformat_minor": 5
}